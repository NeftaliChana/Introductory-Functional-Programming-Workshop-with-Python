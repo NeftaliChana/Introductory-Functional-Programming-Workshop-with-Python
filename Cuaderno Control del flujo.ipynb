{
 "cells": [
  {
   "cell_type": "markdown",
   "metadata": {},
   "source": [
    "# CONTROL DE FLUJO"
   ]
  },
  {
   "cell_type": "markdown",
   "metadata": {},
   "source": [
    "## Qué en vez del Cómo"
   ]
  },
  {
   "cell_type": "markdown",
   "metadata": {},
   "source": [
    "<p style=\"text-align: justify;\">\n",
    "Con el objetivo de conseguir algoritmos que permitan describir el ** Qué ** en vez del ** Cómo ** , se escribe código conciso y expresivo. Además de esto, tambien se busca que no se generen \"efectos colaterales\". En los lenguajes de programación imperativa se manejan estados. Los estados están dados por los valores de las variables. Para esto se utilizan sentencias que como For/in, while, if, if-else-elif, etc. Estas sentencias permiten controlar y cambiar los valores que van tomando una variables. Esto genera “efectos colaterales”, cambios en los valores de las variables dentro del código.\n",
    "\n",
    "Para pasar de un código escrito de la manera tradicional (programación imperativa), se puede acudir a algunas estrategias como las siguientes:\n",
    "</p>\n",
    "\n",
    "- <a href=\"#Encapsulamiento\">Encapsulamiento</a>\n",
    "- <a href=\"#Listas-por-comprensión\">Listas por comprensión</a>\n",
    "- <a href=\"#Recursividad\">Recursividad</a>\n",
    "- <a href=\"#Iteraciones-sobre-iterables\">Iteraciones sobre iterables</a>"
   ]
  },
  {
   "cell_type": "markdown",
   "metadata": {},
   "source": [
    "## Encapsulamiento\n",
    "\n",
    "Encapsular se refiere a cuando se tienen secciones de código que se puedan contener por si solas dentro de una función. "
   ]
  },
  {
   "cell_type": "code",
   "execution_count": 3,
   "metadata": {},
   "outputs": [],
   "source": [
    "## Ejemplo No.1 verificando si un numero es par\n",
    "naturales = range(1,11)\n",
    "resultado = list()\n",
    "for i in naturales:\n",
    "    if(i % 2 == 0):\n",
    "        resultado.append(i)"
   ]
  },
  {
   "cell_type": "code",
   "execution_count": 4,
   "metadata": {},
   "outputs": [
    {
     "name": "stdout",
     "output_type": "stream",
     "text": [
      "[2, 4, 6, 8, 10]\n"
     ]
    }
   ],
   "source": [
    "\"\"\"Resultado\"\"\"\n",
    "print resultado"
   ]
  },
  {
   "cell_type": "markdown",
   "metadata": {},
   "source": [
    "El ejemplo No.1 es muy sencillo. Simplemente se puede reemplazar la linea del condicional if por una función así:"
   ]
  },
  {
   "cell_type": "code",
   "execution_count": 5,
   "metadata": {},
   "outputs": [
    {
     "name": "stdout",
     "output_type": "stream",
     "text": [
      "[2, 4, 6, 8, 10]\n"
     ]
    }
   ],
   "source": [
    "\"\"\"Resultado\"\"\"\n",
    "print resultado"
   ]
  },
  {
   "cell_type": "code",
   "execution_count": 6,
   "metadata": {},
   "outputs": [],
   "source": [
    "## Ejemplo No.2 Encapsulando funciones\n",
    "def esPar(numero):\n",
    "    return numero % 2 == 0\n",
    "\n",
    "resultado = list()\n",
    "for i in naturales:\n",
    "    if(esPar(i)):\n",
    "        resultado.append(i)"
   ]
  },
  {
   "cell_type": "code",
   "execution_count": 7,
   "metadata": {},
   "outputs": [
    {
     "name": "stdout",
     "output_type": "stream",
     "text": [
      "[2, 4, 6, 8, 10]\n"
     ]
    }
   ],
   "source": [
    "\"\"\"Resultado\"\"\"\n",
    "print resultado"
   ]
  },
  {
   "cell_type": "markdown",
   "metadata": {},
   "source": [
    "### ----->Ejercicio\n",
    "¿Cómo reescribirías un algoritmo que calcule la suma de dos vectores?"
   ]
  },
  {
   "cell_type": "markdown",
   "metadata": {},
   "source": [
    "## Listas por comprensión\n",
    "\n",
    "<p style=\"text-align: justify;\">\n",
    "Las listas por comprensión son una característica tomada de Haskell. Estas están presentes en Python desde la versión 2.0. Permiten crear nuevas listas a partir de otras listas o iterables, a través de la aplicación de funciones y condiciones que vayan generando los elementos de la lista. \n",
    "</p>"
   ]
  },
  {
   "cell_type": "code",
   "execution_count": 8,
   "metadata": {},
   "outputs": [],
   "source": [
    "## Ejemplo No. 3 Utilizando listas por comprension\n",
    "#Ejemplo de listas por compresion\n",
    "l2 = [n ** 2 for n in naturales] \n",
    "#equivalente a \n",
    "# l2 = []\n",
    "# for n in naturales:\n",
    "# \tl2.append(n**2)"
   ]
  },
  {
   "cell_type": "code",
   "execution_count": 9,
   "metadata": {},
   "outputs": [
    {
     "name": "stdout",
     "output_type": "stream",
     "text": [
      "[1, 4, 9, 16, 25, 36, 49, 64, 81, 100]\n"
     ]
    }
   ],
   "source": [
    "\"\"\"Resultado\"\"\"\n",
    "print l2"
   ]
  },
  {
   "cell_type": "markdown",
   "metadata": {},
   "source": [
    "Por ejemplo, si se quisiera obtener el mismo resultado del primer ejemplo con las listas por comprensión, se podría escribir algo como lo siguiente: "
   ]
  },
  {
   "cell_type": "code",
   "execution_count": 10,
   "metadata": {},
   "outputs": [],
   "source": [
    "nuevaLista = [n for n in naturales if esPar(n)] "
   ]
  },
  {
   "cell_type": "code",
   "execution_count": 28,
   "metadata": {},
   "outputs": [
    {
     "name": "stdout",
     "output_type": "stream",
     "text": [
      "[2, 4, 6, 8, 10]\n"
     ]
    }
   ],
   "source": [
    "\"\"\"Resultado\"\"\"\n",
    "print nuevaLista"
   ]
  },
  {
   "cell_type": "markdown",
   "metadata": {},
   "source": [
    "### ----->Ejercicio\n",
    "Escribe una función que imprima los areas de cuadrados si las aristas son los valores de la nuevaLista"
   ]
  },
  {
   "cell_type": "code",
   "execution_count": 28,
   "metadata": {},
   "outputs": [],
   "source": [
    "nuevaLista = [n for n in naturales] "
   ]
  },
  {
   "cell_type": "markdown",
   "metadata": {},
   "source": [
    "## Recursividad\n",
    "\n",
    "<p style=\"text-align: justify;\">\n",
    "La recursividad es una técnica utilizada para evitar el uso del estado de las variables. La recursividad tambien da la facilidad de expresar el “Qué” en vez del “Como”. La recursividad se define clasicamente como la capacidad de una función de llamarse a si misma. Para escribir funciones recursivas, se deben identificar dos casos. El caso base, que se calcula directamente, y el caso recursivo que se calcula a través de la evaluación recursiva de una función a partir de un valor.\n",
    "</p>"
   ]
  },
  {
   "cell_type": "code",
   "execution_count": 33,
   "metadata": {},
   "outputs": [],
   "source": [
    "##Ejemplo No. 4 Recursion\n",
    "\n",
    "s = 0\n",
    "for n in range(1, 11):\n",
    "    s += n\n",
    "\n",
    "##Lo anterior produce el mismo resultado que\n",
    "def sum(seq):\n",
    "    if len(seq) == 0: \n",
    "        return 0\n",
    "    else:\n",
    "        return seq[0] + sum(seq[1:])"
   ]
  },
  {
   "cell_type": "code",
   "execution_count": 34,
   "metadata": {},
   "outputs": [
    {
     "name": "stdout",
     "output_type": "stream",
     "text": [
      "55\n"
     ]
    }
   ],
   "source": [
    "\"\"\"Resultado\"\"\"\n",
    "print sum(range(1,11))"
   ]
  },
  {
   "cell_type": "markdown",
   "metadata": {},
   "source": [
    "\n",
    "\n",
    "<p style=\"text-align: justify;\">\n",
    "Como se puede ver, el caso base de la función sum() es cuando la lista ya no tiene más elementos, en este caso no se devuelve nada y se corta la llamada recursiva. El caso contrario, realiza la evaluación recursiva mediante el retorno de la suma de la cabeza de la lista sumada a la función evaluada con la cola de la lista. \n",
    "</p>"
   ]
  },
  {
   "cell_type": "markdown",
   "metadata": {},
   "source": [
    "### ----->Ejercicio\n",
    "\n",
    "Escribe una función recursiva para calcular el factorial de un número\n",
    "\n",
    "<p style=\"text-align: justify;\">\n",
    "Uno de los ejemplos clasicos de recursividad es obtener el factorial de un número. El caso base es el factorial de cero (0) que es igual a 1. De otra forma se puede hacer la evaluación recursiva con el fin de calcular el factorial del número.\n",
    "</p>"
   ]
  },
  {
   "cell_type": "markdown",
   "metadata": {},
   "source": [
    "## Iteraciones sobre iterables"
   ]
  },
  {
   "cell_type": "markdown",
   "metadata": {},
   "source": [
    "<p style=\"text-align: justify;\">\n",
    "Existen funciones que permiten hacer iteraciones sobre objetos <a href=\"https://wiki.python.org/moin/Iterator\">iterables</a>. Por ejemplo listas, arreglos y cadenas de texto. Estas funciones permiten emular el trabajo de los bucles tradicionales de la programación imperativa. Estas funciones son:\n",
    "</p>\n",
    "\n",
    "- Map\n",
    "- Reduce\n",
    "- Filter\n",
    "\n",
    "\n",
    "\n"
   ]
  },
  {
   "cell_type": "markdown",
   "metadata": {},
   "source": [
    "   #### Map\n",
    "La función Map aplica una función a una lista, y devuelve el resultado de haber aplicado la función al elemento de la lista original."
   ]
  },
  {
   "cell_type": "code",
   "execution_count": 3,
   "metadata": {},
   "outputs": [],
   "source": [
    "#Ejemplo No. 5 utilizando la funcion map\n",
    "import math \n",
    "def calcularAreaDeCirculo(radio):\n",
    "    return math.pi * radio**2\n",
    "\n",
    "l = [1, 2, 3]\n",
    "l2 = map(calcularAreaDeCirculo, l)"
   ]
  },
  {
   "cell_type": "code",
   "execution_count": 4,
   "metadata": {},
   "outputs": [
    {
     "name": "stdout",
     "output_type": "stream",
     "text": [
      "[3.141592653589793, 12.566370614359172, 28.274333882308138]\n"
     ]
    }
   ],
   "source": [
    "\"\"\"Resultado\"\"\"\n",
    "print l2"
   ]
  },
  {
   "cell_type": "markdown",
   "metadata": {},
   "source": [
    "En este tipo de funciones, se puede utilizar las funciones Lambda. Las funciones Lambda, son funciones anonimas en linea. Por lo tanto, solo se puede utilizar su definición un vez. "
   ]
  },
  {
   "cell_type": "markdown",
   "metadata": {},
   "source": [
    "### ----->Ejercicio\n",
    "\n",
    "<p style=\"text-align: justify;\">\n",
    "Utilizando las funciones lambda. Calcule el area delos circulos cuyos radios son:\n",
    "radiosDeCirculo = [15,5,24,32]\n",
    "</p>"
   ]
  },
  {
   "cell_type": "markdown",
   "metadata": {},
   "source": [
    "   #### Reduce\n",
    "La función Reduce aplica una función de manera continua a pares secuenciales de valores en una lista."
   ]
  },
  {
   "cell_type": "code",
   "execution_count": 11,
   "metadata": {},
   "outputs": [],
   "source": [
    "#Ejemplo No. 6 utilizando la funcion mreduce\n",
    "from operator import mul\n",
    "def factorial(n):\n",
    "    return reduce(mul, range(1, n+1))"
   ]
  },
  {
   "cell_type": "code",
   "execution_count": 12,
   "metadata": {},
   "outputs": [
    {
     "name": "stdout",
     "output_type": "stream",
     "text": [
      "120\n"
     ]
    }
   ],
   "source": [
    "\"\"\"Resultado\"\"\"\n",
    "print factorial(5)"
   ]
  },
  {
   "cell_type": "markdown",
   "metadata": {},
   "source": [
    "Al igual que con la función Map, es posible construir una función factorial aplicando esta vez la función reduce, junto con una función lambda. "
   ]
  },
  {
   "cell_type": "markdown",
   "metadata": {},
   "source": [
    "### ----->Ejercicio\n",
    "Escribe una función para calcular la suma de todos los valores de una lista"
   ]
  },
  {
   "cell_type": "markdown",
   "metadata": {},
   "source": [
    "   #### Filter\n",
    "   Tal como lo sugiere su nombre, la función Filter actúa como filtro para elementos de una secuencia. Los elementos de la secuencia son evaluados en una función y se van retornando aquellos que cumplan con la condición. "
   ]
  },
  {
   "cell_type": "code",
   "execution_count": 16,
   "metadata": {},
   "outputs": [],
   "source": [
    "#Ejemplo No. 7 utilizando la funcion filter\n",
    "def es_par(n):\n",
    "    return (n % 2.0 == 0)\n",
    "\n",
    "lista = [1, 2, 3, 4, 5]\n",
    "pares = filter(es_par, lista)\n"
   ]
  },
  {
   "cell_type": "code",
   "execution_count": 17,
   "metadata": {
    "scrolled": true
   },
   "outputs": [
    {
     "name": "stdout",
     "output_type": "stream",
     "text": [
      "[2, 4]\n"
     ]
    }
   ],
   "source": [
    "\"\"\"Resultado\"\"\"\n",
    "print pares"
   ]
  },
  {
   "cell_type": "markdown",
   "metadata": {},
   "source": [
    "### ------>Ejercicio\n",
    "Crea una lista a partir de la lista ****nombres**** con aquellos cuya primera letra sea la \"a\".\n",
    "nombres = [\"juan\",\"luis\",\"ana\",\"david\",\"andres\",\"andrea\"]\n"
   ]
  }
 ],
 "metadata": {
  "kernelspec": {
   "display_name": "Python 2",
   "language": "python",
   "name": "python2"
  },
  "language_info": {
   "codemirror_mode": {
    "name": "ipython",
    "version": 2
   },
   "file_extension": ".py",
   "mimetype": "text/x-python",
   "name": "python",
   "nbconvert_exporter": "python",
   "pygments_lexer": "ipython2",
   "version": "2.7.12"
  }
 },
 "nbformat": 4,
 "nbformat_minor": 2
}
