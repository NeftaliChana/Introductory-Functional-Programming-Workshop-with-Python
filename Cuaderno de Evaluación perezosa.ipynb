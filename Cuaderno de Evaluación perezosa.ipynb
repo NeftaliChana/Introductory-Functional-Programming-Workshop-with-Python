{
 "cells": [
  {
   "cell_type": "markdown",
   "metadata": {},
   "source": [
    "# EVALUACIÓN PEREZOSA"
   ]
  },
  {
   "cell_type": "markdown",
   "metadata": {},
   "source": [
    "<p style=\"text-align: justify;\">\n",
    "La evaluación perezosa es una característica de los lenguajes puramente funcionales como <a href=\"https://wiki.haskell.org/Introduction\">Haskell</a>. Esta característica se refiere a que un calculo se retrasa hasta que sea necesario hacer su evaluación. No se crean todos los posibles resultados inmediatamente. \n",
    "</p>"
   ]
  },
  {
   "cell_type": "markdown",
   "metadata": {},
   "source": [
    "cuadrado n = n * n  \n",
    "\n",
    "- Por ejemplo: cuadrado (2+2) tenemos\n",
    "- cuadrado (2+2)\n",
    "- (2+2) * (2+2)\n",
    "-   4   * (2+2)\n",
    "-   4   *   4 \n",
    "-       16\n",
    "\n",
    "Ejemplo en Haskell"
   ]
  },
  {
   "cell_type": "markdown",
   "metadata": {},
   "source": [
    "Contrario a Haskell, Python no soporta evaluación perezosa, pero cuenta con el protocolo iterador y otro conjunto de funcionalidades que permiten emular esta característica.\n",
    "\n",
    "Un ejemplo son los generadores. Un generador es una clase especial de función que genera valores sobre los que iterar."
   ]
  },
  {
   "cell_type": "code",
   "execution_count": 4,
   "metadata": {},
   "outputs": [
    {
     "name": "stdout",
     "output_type": "stream",
     "text": [
      "[1, 2, 3, 4, 5]\n"
     ]
    }
   ],
   "source": [
    "#Ejemplo  No. 1 Generadores \n",
    "from itertools import islice\n",
    "def generator():\n",
    "    i = 1\n",
    "    while True:\n",
    "        yield i\n",
    "        i += 1\n",
    "\n",
    "def take(n, iterable):\n",
    "    return list(islice(iterable, n))\n",
    " \n",
    "print take(5, generator())"
   ]
  },
  {
   "cell_type": "markdown",
   "metadata": {},
   "source": [
    "<p style=\"text-align: justify;\">\n",
    "En los generadores se utiliza la palabra **Yield** que funciona como un return, pero además permite “congelar” la ejecución del programa. Por lo tanto, la función **generator()** retorna **un** incremento en **i** cada vez que se le solicite.\n",
    "</p>"
   ]
  },
  {
   "cell_type": "markdown",
   "metadata": {},
   "source": [
    "<p style=\"text-align: justify;\">\n",
    "En lugar de almacenar todo el rango, [0,1,2, .., 5], en la memoria, el generador almacena una definición para (i = 0; i <5; i + = 1) y calcula el siguiente valor solo cuando es necesario (Como lo haría la evaluación perezosa). Por lo tanto, cada número en una secuencia se evalúa a demanda en lugar de inmediatamente. Esta es una característica muy útil cuando se trata de grandes secuencias de números, y puede ahorrar un valioso tiempo de ejecución.\n",
    "<br>\n",
    "<br>\n",
    "Una nueva llamada a un generador no inicia la ejecución al principio de la función, sino que la reanuda inmediatamente después del punto donde se encuentre la última declaración **yield**.\n",
    "<br>\n",
    "<br>\n",
    "Por otro lado, los iteradores implementan dos metodos fundamentales: iter()  y next(). Juntos conforman el protocolo iterador. La función iter () (que a su vez llama al método iter()) devuelve un iterador de ellos.\n",
    "<br>\n",
    "<br>\n",
    "El método next () debe devolver el siguiente elemento de la secuencia. Al llegar al final, y en llamadas posteriores, devuelve StopIteration.\n",
    "\n",
    "</p>"
   ]
  },
  {
   "cell_type": "code",
   "execution_count": 6,
   "metadata": {},
   "outputs": [
    {
     "name": "stdout",
     "output_type": "stream",
     "text": [
      "<listiterator object at 0x7fd270469c50>\n"
     ]
    }
   ],
   "source": [
    "##Ejemplo de iterator\n",
    "\n",
    "delUnoAlCinco = [1,2,3,4,5]\n",
    "it = iter(delUnoAlCinco)\n",
    "print it \n"
   ]
  },
  {
   "cell_type": "code",
   "execution_count": 5,
   "metadata": {},
   "outputs": [
    {
     "data": {
      "text/plain": [
       "[0, 1, 2, 3, 4]"
      ]
     },
     "execution_count": 5,
     "metadata": {},
     "output_type": "execute_result"
    }
   ],
   "source": [
    "#Ejemplo de range entre Python2.X y Python 3.X\n",
    "range(5)\n",
    "#[1,2,3,4,5]\n",
    "\n",
    "range(5)\n",
    "#range(0,5) esto en python 3.X mismo resultado utilizando xrange() en python2.X\n"
   ]
  },
  {
   "cell_type": "code",
   "execution_count": null,
   "metadata": {},
   "outputs": [],
   "source": []
  }
 ],
 "metadata": {
  "kernelspec": {
   "display_name": "Python 2",
   "language": "python",
   "name": "python2"
  },
  "language_info": {
   "codemirror_mode": {
    "name": "ipython",
    "version": 2
   },
   "file_extension": ".py",
   "mimetype": "text/x-python",
   "name": "python",
   "nbconvert_exporter": "python",
   "pygments_lexer": "ipython2",
   "version": "2.7.12"
  }
 },
 "nbformat": 4,
 "nbformat_minor": 2
}
