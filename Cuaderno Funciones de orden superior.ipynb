{
 "cells": [
  {
   "cell_type": "markdown",
   "metadata": {},
   "source": [
    "# FUNCIONES DE ORDEN SUPERIOR"
   ]
  },
  {
   "cell_type": "markdown",
   "metadata": {},
   "source": [
    "Una función de orden superior es una función simple que toma una o más funciones como argumentos y/o produce otra función como resultado. Muchas abstracciones interesantes están disponibles aquí. Unas cuantas funciones de orden superior están contenidas en el módulo functools . Las más comunes o que tenemos presentes son map() , filter(), functools.reduce(), casi en todos los lenguajes de programación funcional se usan estas funciones como primitivas(a veces bajo otros nombres) .Tambien está el currying que se representa como partial() en el módulo de functools."
   ]
  },
  {
   "cell_type": "markdown",
   "metadata": {},
   "source": [
    "## Map y Filter"
   ]
  },
  {
   "cell_type": "markdown",
   "metadata": {},
   "source": [
    "Son equivalentes a comprehensiones. La mayoría de los programadores en Python encuentran la comprehensión más legible"
   ]
  },
  {
   "cell_type": "markdown",
   "metadata": {},
   "source": [
    "### Map"
   ]
  },
  {
   "cell_type": "markdown",
   "metadata": {},
   "source": [
    "La herramienta map aplica una función a todos los elementos de una lista de entrada . A continuación se ejemplifica su uso :"
   ]
  },
  {
   "cell_type": "markdown",
   "metadata": {},
   "source": [
    "```python\n",
    "   map(funcion_para_aplicar, lista_entrada)\n",
    "```"
   ]
  },
  {
   "cell_type": "code",
   "execution_count": null,
   "metadata": {
    "collapsed": true
   },
   "outputs": [],
   "source": [
    "### Ejemplo No.1 Usando Map para aplicar una función a una serie de elementos\n",
    "def cuboDeUnNumero (x) :\n",
    "    return x**3\n",
    "    \n",
    "elementos = [1 , 5, 7, 8, 11 , 34]\n"
   ]
  },
  {
   "cell_type": "code",
   "execution_count": null,
   "metadata": {},
   "outputs": [],
   "source": [
    "\"\"\"Resultado\"\"\"\n",
    "print(list(map(cuboDeUnNumero, elementos)))"
   ]
  },
  {
   "cell_type": "markdown",
   "metadata": {},
   "source": [
    "**Ejercicio** Dada la lista _listaNumeros_ cree una nueva lista _listaNueva_ donde los elementos de la lista original se les reste 5 unidades e imprimala. Si es posible, use una lambda."
   ]
  },
  {
   "cell_type": "code",
   "execution_count": null,
   "metadata": {
    "collapsed": true
   },
   "outputs": [],
   "source": [
    "# Ejercicio \n",
    "\n",
    "listaNumeros = [45, 231 , 0 , 4221 , 12]"
   ]
  },
  {
   "cell_type": "code",
   "execution_count": null,
   "metadata": {},
   "outputs": [],
   "source": [
    "\"\"\" Resultado \"\"\"\n",
    "print(list())"
   ]
  },
  {
   "cell_type": "markdown",
   "metadata": {},
   "source": [
    "### Filter"
   ]
  },
  {
   "cell_type": "markdown",
   "metadata": {},
   "source": [
    "Como el nombre lo sugiere, filter crea una lista de valores los cuales retornan true dada una función."
   ]
  },
  {
   "cell_type": "markdown",
   "metadata": {},
   "source": [
    "**Ejercicio** Use Filter para filtrar los numeros menores a cero de una lista, haga uso de una lambda que establezca los números menos que cero."
   ]
  },
  {
   "cell_type": "code",
   "execution_count": null,
   "metadata": {},
   "outputs": [],
   "source": [
    "### Ejercicio.\n",
    "listaNumeros = range(-10, 25)\n",
    "\n",
    "\n"
   ]
  },
  {
   "cell_type": "code",
   "execution_count": null,
   "metadata": {
    "collapsed": true
   },
   "outputs": [],
   "source": [
    "\"\"\"Resultado\"\"\"\n",
    "#print()"
   ]
  },
  {
   "cell_type": "markdown",
   "metadata": {},
   "source": [
    "## Reduce"
   ]
  },
  {
   "cell_type": "markdown",
   "metadata": {},
   "source": [
    "La función reduce () es muy general, muy poderosa,y muy fácil de usar con toda su potencia. Toma elementos sucesivos de un iterable, y los combina de alguna manera. El uso más común para reduce () probablemente esté cubierto por sum () incorporado"
   ]
  },
  {
   "cell_type": "markdown",
   "metadata": {},
   "source": [
    "**Ejercicio** Use reduce para sumar todos los números sucesivamente de una lista e imprima el resultado. "
   ]
  },
  {
   "cell_type": "code",
   "execution_count": null,
   "metadata": {
    "collapsed": true
   },
   "outputs": [],
   "source": [
    "### Ejercicio\n",
    "from functools import reduce\n",
    "import operator\n",
    "it = range(4,56)\n",
    "total = reduce(operator.add, it, 0)\n",
    "total=sum(it)"
   ]
  },
  {
   "cell_type": "code",
   "execution_count": null,
   "metadata": {},
   "outputs": [],
   "source": [
    "\"\"\"Resultado\"\"\"\n",
    "print(total)"
   ]
  },
  {
   "cell_type": "markdown",
   "metadata": {},
   "source": [
    "<div class=\"alert alert-block alert-info\"> **Map y Filter son también casos especiales de reduce ** </div> "
   ]
  },
  {
   "cell_type": "markdown",
   "metadata": {},
   "source": [
    "**Con reduce**"
   ]
  },
  {
   "cell_type": "code",
   "execution_count": null,
   "metadata": {},
   "outputs": [],
   "source": [
    "sumar5 = lambda n: n+5\n",
    "reduce(lambda l,x : l +[sumar5(x)], range(10),[])"
   ]
  },
  {
   "cell_type": "markdown",
   "metadata": {},
   "source": [
    "**Con map, mucho más simple**"
   ]
  },
  {
   "cell_type": "code",
   "execution_count": null,
   "metadata": {
    "scrolled": true
   },
   "outputs": [],
   "source": [
    "list(map(sumar5,range(10)))"
   ]
  },
  {
   "cell_type": "markdown",
   "metadata": {},
   "source": [
    "**Con reduce**"
   ]
  },
  {
   "cell_type": "code",
   "execution_count": null,
   "metadata": {},
   "outputs": [],
   "source": [
    "esPar = lambda n:n%2\n",
    "reduce(lambda l,x : l+[x] if esPar(x) else l, range(10), [])"
   ]
  },
  {
   "cell_type": "markdown",
   "metadata": {},
   "source": [
    "**Con filter, mucho más simple**"
   ]
  },
  {
   "cell_type": "code",
   "execution_count": null,
   "metadata": {},
   "outputs": [],
   "source": [
    "list(filter(esPar, range(10)))"
   ]
  },
  {
   "cell_type": "markdown",
   "metadata": {},
   "source": [
    "Las expresiones lambda son raras, pero ilustran lo poderoso de las funciones en su generalidad. Cualquier cosas que pueda ser computado de una secuencia puede ser expresado como una reducción"
   ]
  },
  {
   "cell_type": "markdown",
   "metadata": {},
   "source": [
    "## Compose"
   ]
  },
  {
   "cell_type": "markdown",
   "metadata": {},
   "source": [
    "Toma una secuencia de funciones y retorna una función que representa la aplicación de cada uno de esos argumentos(funciones) a datos (segundo argumento)"
   ]
  },
  {
   "cell_type": "code",
   "execution_count": null,
   "metadata": {
    "collapsed": true
   },
   "outputs": [],
   "source": [
    "## Ejemplo No.4 Compose es analogo a la composición de funciones en calculo\n",
    "def compose (*funciones):\n",
    "    def interior(datos, funciones=funciones):\n",
    "        resultado = datos\n",
    "        for f in reversed(funciones):\n",
    "            resultado=f(resultado)\n",
    "        return resultado\n",
    "    return interior\n"
   ]
  },
  {
   "cell_type": "code",
   "execution_count": null,
   "metadata": {},
   "outputs": [],
   "source": [
    "\"\"\"Resultado\"\"\"\n",
    "multiplicarDos = lambda x: x*2\n",
    "restarTres = lambda x : x-3\n",
    "moduloSeis = lambda x : x%6\n",
    "f = compose(moduloSeis, multiplicarDos , restarTres)\n",
    "all(f(i)==((i-3)*2)%6 for i in range (100000))"
   ]
  },
  {
   "cell_type": "markdown",
   "metadata": {},
   "source": [
    "Para esas funciones de una sola línea podríamos escribir la expresión matemática subyacente fácilmente. Pero si los cálculos son compuestos, involucran ramificaciones, control de flujo, lógica compleja, etc aquí no aplicaría tal facilidad."
   ]
  },
  {
   "cell_type": "markdown",
   "metadata": {},
   "source": [
    "**Ejercicio** Respecto a la composición de funciones que se hace en _compose2_ , defina dos funciones convencionales : la primera que multiplique un número por 8 y la segunda función que le reste 1. Finalmente haga una composición de funciones con _compose2_ e imprima el resultado para el número 150"
   ]
  },
  {
   "cell_type": "code",
   "execution_count": null,
   "metadata": {},
   "outputs": [],
   "source": [
    "#Ejercicio\n",
    "def compose2(f, g):\n",
    "    return lambda x: f(g(x))\n",
    "\n",
    "def multiplica8 (numero):\n",
    "   # return \n",
    "\n",
    "def resta1 (numero):\n",
    "    #return\n"
   ]
  },
  {
   "cell_type": "code",
   "execution_count": null,
   "metadata": {
    "collapsed": true
   },
   "outputs": [],
   "source": [
    "\"\"\"Resultado\"\"\""
   ]
  },
  {
   "cell_type": "markdown",
   "metadata": {},
   "source": [
    "## All y Any"
   ]
  },
  {
   "cell_type": "markdown",
   "metadata": {},
   "source": [
    "Las funciones incorporadas all () y any () son útiles para preguntar si un predicado tiene elementos de un iterable. Pero tambien es Es bueno poder preguntar si alguno / todos de una colección de predicados puede tener  un elemento de datos en particular de una manera composable. Podríamos implementar estos como:"
   ]
  },
  {
   "cell_type": "code",
   "execution_count": null,
   "metadata": {},
   "outputs": [],
   "source": [
    "## Ejemplo No.5 Uso de all y any para determinar si un numero es primo\n",
    "from functools import partial\n",
    "import operator\n",
    "\n",
    "def es_primo(n):\n",
    "    for i in range(2,int(n**0.5)+1):\n",
    "        if n%i==0:\n",
    "            return False\n",
    "\n",
    "    return True\n",
    "\n",
    "todosP = lambda elemento, *prueba: all(p(elemento) for p in prueba)\n",
    "algunP = lambda elemento, *prueba : any(p(elemento) for p in prueba)\n",
    "\n",
    "esMenor100= partial(operator.ge, 100)\n",
    "esMayor10= partial(operator.le , 10)\n",
    "\n",
    "todosP(71, esMenor100, esMayor10, es_primo)\n"
   ]
  },
  {
   "cell_type": "code",
   "execution_count": null,
   "metadata": {},
   "outputs": [],
   "source": [
    "\"\"\"Resultado\"\"\"\n",
    "predicados = (esMenor100, esMayor10, es_primo)\n",
    "todosP(107, *predicados)"
   ]
  },
  {
   "cell_type": "markdown",
   "metadata": {},
   "source": [
    "## Operator"
   ]
  },
  {
   "cell_type": "markdown",
   "metadata": {},
   "source": [
    "Como se ha demostrado en algunos de los ejemplos, cada operación que se puede hacer con operadores infijo y prefijo de Python corresponden a una función ligada al módulo de operador. Muchas veces usar el nombre desde el operador es más rápido y se ve mejor que un correspondiente lambda. Por ejemplo "
   ]
  },
  {
   "cell_type": "markdown",
   "metadata": {},
   "source": [
    "```python\n",
    "from itertools import iterable\n",
    "suma1 = reduce (lambda a,b: a+b , iterable , 0)\n",
    "suma2 = reduce(operator.add , iterable, 0)\n",
    "suma3 = sum(iterable)\n",
    "```"
   ]
  }
 ],
 "metadata": {
  "kernelspec": {
   "display_name": "Python 3",
   "language": "python",
   "name": "python3"
  },
  "language_info": {
   "codemirror_mode": {
    "name": "ipython",
    "version": 3
   },
   "file_extension": ".py",
   "mimetype": "text/x-python",
   "name": "python",
   "nbconvert_exporter": "python",
   "pygments_lexer": "ipython3",
   "version": "3.6.1"
  }
 },
 "nbformat": 4,
 "nbformat_minor": 2
}
