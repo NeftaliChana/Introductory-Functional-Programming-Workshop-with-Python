{
 "cells": [
  {
   "cell_type": "markdown",
   "metadata": {},
   "source": [
    "# INTRODUCCIÓN A LA PROGRAMACIÓN FUNCIONAL EN PYTHON"
   ]
  },
  {
   "cell_type": "markdown",
   "metadata": {},
   "source": [
    "## Talleristas\n",
    " \n",
    "- Maria Camila Guerrero Giraldo\n",
    "- Juan Sebastián Parada Celis\n",
    "    \n",
    "## Agenda\n",
    "\n",
    "\n",
    "- ¿Qué es programación funcional?\n",
    "- Lenguajes de programación funcional \n",
    "- Ejemplos programación funcional lenguajes\n",
    "- Python en programación funcional \n",
    "\n",
    "\n",
    "- [Control de flujo](Cuaderno Control del flujo.ipynb)\n",
    "- [Callables](Callables.ipynb)\n",
    "- [Evaluación perezosa](Cuaderno de Evaluación perezosa.ipynb)\n",
    "- [Funciones de orden superior](Funciones de orden superior.ipynb)\n",
    "\n",
    "\n",
    "- Aplicaciones de la PF \n",
    "- Cierre del taller \n",
    "\n",
    "\n"
   ]
  },
  {
   "cell_type": "code",
   "execution_count": null,
   "metadata": {},
   "outputs": [],
   "source": []
  }
 ],
 "metadata": {
  "kernelspec": {
   "display_name": "Python 2",
   "language": "python",
   "name": "python2"
  },
  "language_info": {
   "codemirror_mode": {
    "name": "ipython",
    "version": 2
   },
   "file_extension": ".py",
   "mimetype": "text/x-python",
   "name": "python",
   "nbconvert_exporter": "python",
   "pygments_lexer": "ipython2",
   "version": "2.7.12"
  }
 },
 "nbformat": 4,
 "nbformat_minor": 2
}
